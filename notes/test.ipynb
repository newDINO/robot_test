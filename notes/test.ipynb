{
 "cells": [
  {
   "cell_type": "code",
   "execution_count": 2,
   "id": "78866f1f-7c17-4f89-bb7b-bc839d873914",
   "metadata": {},
   "outputs": [
    {
     "data": {
      "text/latex": [
       "$\\displaystyle 2 \\operatorname{atan}{\\left(\\frac{a - \\sqrt{a^{2} + b^{2} - c^{2}}}{b + c} \\right)}$"
      ],
      "text/plain": [
       "2*atan((a - sqrt(a**2 + b**2 - c**2))/(b + c))"
      ]
     },
     "metadata": {},
     "output_type": "display_data"
    },
    {
     "data": {
      "text/latex": [
       "$\\displaystyle 2 \\operatorname{atan}{\\left(\\frac{a + \\sqrt{a^{2} + b^{2} - c^{2}}}{b + c} \\right)}$"
      ],
      "text/plain": [
       "2*atan((a + sqrt(a**2 + b**2 - c**2))/(b + c))"
      ]
     },
     "metadata": {},
     "output_type": "display_data"
    },
    {
     "name": "stdout",
     "output_type": "stream",
     "text": [
      "2*atan((a - sqrt(a**2 + b**2 - c**2))/(b + c))\n",
      "2*atan((a + sqrt(a**2 + b**2 - c**2))/(b + c))\n"
     ]
    }
   ],
   "source": [
    "from sympy import *\n",
    "\n",
    "a, b, c, x = symbols('a b c x')\n",
    "eq = Eq(a * sin(x) + b * cos(x), c)\n",
    "solutions = solve(eq, x)\n",
    "\n",
    "x1 = solutions[0]\n",
    "x2 = solutions[1]\n",
    "display(x1)\n",
    "display(x2)\n",
    "print(x1)\n",
    "print(x2)"
   ]
  },
  {
   "cell_type": "code",
   "execution_count": 21,
   "id": "ea5bcf95-52bb-42b0-90cf-cb600c20dc36",
   "metadata": {},
   "outputs": [
    {
     "name": "stdout",
     "output_type": "stream",
     "text": [
      "^{i-1}_iT = \\left[\\begin{matrix}\\cos{\\left(\\theta_{i} \\right)} & - \\sin{\\left(\\theta_{i} \\right)} & 0 & a_{i-1}\\\\\\sin{\\left(\\theta_{i} \\right)} \\cos{\\left(\\alpha_{i-1} \\right)} & \\cos{\\left(\\alpha_{i-1} \\right)} \\cos{\\left(\\theta_{i} \\right)} & - \\sin{\\left(\\alpha_{i-1} \\right)} & - d_{i} \\sin{\\left(\\alpha_{i-1} \\right)}\\\\\\sin{\\left(\\alpha_{i-1} \\right)} \\sin{\\left(\\theta_{i} \\right)} & \\sin{\\left(\\alpha_{i-1} \\right)} \\cos{\\left(\\theta_{i} \\right)} & \\cos{\\left(\\alpha_{i-1} \\right)} & d_{i} \\cos{\\left(\\alpha_{i-1} \\right)}\\\\0 & 0 & 0 & 1\\end{matrix}\\right]\n"
     ]
    }
   ],
   "source": [
    "from sympy import *\n",
    "\n",
    "theta, alpha, a, d, t = symbols('theta_i \\\\alpha_{i-1} a_{i-1} d_i ^{i-1}_iT')\n",
    "\n",
    "def t_joint(theta, alpha, a, d):\n",
    "    return Matrix([\n",
    "        [cos(theta), -sin(theta), 0, a],\n",
    "        [sin(theta) * cos(alpha), cos(theta) * cos(alpha), -sin(alpha), -sin(alpha) * d],\n",
    "        [sin(theta) * sin(alpha), cos(theta) * sin(alpha), cos(alpha), cos(alpha) *d],\n",
    "        [0, 0, 0, 1]\n",
    "    ])\n",
    "\n",
    "m = t_joint(theta, alpha, a, d)\n",
    "eq = Eq(t, m, evaluate=False)\n",
    "print(latex(eq))"
   ]
  }
 ],
 "metadata": {
  "kernelspec": {
   "display_name": "Python 3 (ipykernel)",
   "language": "python",
   "name": "python3"
  },
  "language_info": {
   "codemirror_mode": {
    "name": "ipython",
    "version": 3
   },
   "file_extension": ".py",
   "mimetype": "text/x-python",
   "name": "python",
   "nbconvert_exporter": "python",
   "pygments_lexer": "ipython3",
   "version": "3.12.6"
  }
 },
 "nbformat": 4,
 "nbformat_minor": 5
}
