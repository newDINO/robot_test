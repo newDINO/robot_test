{
 "cells": [
  {
   "cell_type": "code",
   "execution_count": 1,
   "id": "70d92ff2-d7c2-4b7c-81f3-49e0ef3c445e",
   "metadata": {},
   "outputs": [],
   "source": [
    "from sympy import *"
   ]
  },
  {
   "cell_type": "markdown",
   "id": "bb3f658f-da13-40bb-a701-e0359a9f75e1",
   "metadata": {},
   "source": [
    "## Kenimatics\n",
    "Denavit-Hartenberg Parameters  \n",
    "| $i$ | $\\alpha_{i-1}$ | $a_{i-1}$ | $d$ |\n",
    "|---|---|---|---|\n",
    "| 1 | 0 | 0 | $d_1$ |\n",
    "| 2 | $\\pi/2$ | 0 | 0 |\n",
    "| 3 | 0 | $a_2$ | 0 |\n",
    "| 4 | 0 | $a_3$ | $d_4$ |\n",
    "| 5 | $\\pi/2$ | 0 | $d_5$ |\n",
    "| 6 | $-\\pi/2$ | 0 | $d_6$ |"
   ]
  },
  {
   "cell_type": "code",
   "execution_count": 2,
   "id": "534fb0b7-e76d-45cf-97af-35d6461119ad",
   "metadata": {},
   "outputs": [],
   "source": [
    "def t_joint(theta, alpha, a, d, x_neg=False):\n",
    "    if x_neg:\n",
    "        alpha = -alpha\n",
    "        a = -a\n",
    "    return Matrix([\n",
    "        [cos(theta), -sin(theta), 0, a],\n",
    "        [sin(theta) * cos(alpha), cos(theta) * cos(alpha), -sin(alpha), -sin(alpha) * d],\n",
    "        [sin(theta) * sin(alpha), cos(theta) * sin(alpha), cos(alpha), cos(alpha) *d],\n",
    "        [0, 0, 0, 1]\n",
    "    ])\n",
    "a2, a3, d1, d4, d5, d6, theta1, theta2, theta3, theta4, theta5, theta6 = symbols(\"a_2 a_3 d_1 d_4 d_5 d_6 theta_1 theta_2 theta_3 theta_4 theta_5 theta_6\")\n",
    "x_neg = False\n",
    "t01 = t_joint(theta1, 0, 0, d1, x_neg)\n",
    "t12 = t_joint(theta2, pi / 2, 0, 0, x_neg)\n",
    "t23 = t_joint(theta3, 0, a2, 0, x_neg)\n",
    "t34 = t_joint(theta4, 0, a3, d4, x_neg)\n",
    "t45 = t_joint(theta5, pi / 2, 0, d5, x_neg)\n",
    "t56 = t_joint(theta6, -pi / 2, 0, d6, x_neg)\n",
    "# t06 = t01 * t12 * t23 * t34 * t45 * t56\n",
    "# t06 = simplify(t06)\n",
    "# t06"
   ]
  },
  {
   "cell_type": "markdown",
   "id": "9d0f549a-5cf0-4809-8eb7-b8b44f8cd9e9",
   "metadata": {},
   "source": [
    "## Inverse Kenimatics"
   ]
  },
  {
   "cell_type": "code",
   "execution_count": 3,
   "id": "3fa02264-75bc-46dc-9825-4110098c0901",
   "metadata": {},
   "outputs": [
    {
     "data": {
      "text/latex": [
       "$\\displaystyle \\left[\\begin{matrix}r_{11} & r_{12} & r_{13} & p_{x}\\\\r_{21} & r_{22} & r_{23} & p_{y}\\\\r_{31} & r_{32} & r_{33} & p_{z}\\\\0 & 0 & 0 & 1\\end{matrix}\\right]$"
      ],
      "text/plain": [
       "Matrix([\n",
       "[r_11, r_12, r_13, p_x],\n",
       "[r_21, r_22, r_23, p_y],\n",
       "[r_31, r_32, r_33, p_z],\n",
       "[   0,    0,    0,   1]])"
      ]
     },
     "execution_count": 3,
     "metadata": {},
     "output_type": "execute_result"
    }
   ],
   "source": [
    "r11, r12, r13, r21, r22, r23, r31, r32, r33, px, py, pz = symbols(\"r_11, r_12, r_13, r_21, r_22, r_23, r_31, r_32, r_33, p_x, p_y, p_z\")\n",
    "t = Matrix([\n",
    "    [r11, r12, r13, px],\n",
    "    [r21, r22, r23, py],\n",
    "    [r31, r32, r33, pz],\n",
    "    [0, 0, 0, 1]\n",
    "])\n",
    "t"
   ]
  },
  {
   "cell_type": "code",
   "execution_count": 4,
   "id": "d178ed82-97ac-40df-9191-ba152d940c1e",
   "metadata": {},
   "outputs": [
    {
     "data": {
      "text/latex": [
       "$\\displaystyle \\left[\\begin{matrix}r_{11} \\cos{\\left(\\theta_{1} \\right)} + \\frac{r_{21} \\sin{\\left(2 \\theta_{1} \\right)}}{2 \\cos{\\left(\\theta_{1} \\right)}} & r_{12} \\cos{\\left(\\theta_{1} \\right)} + \\frac{r_{22} \\sin{\\left(2 \\theta_{1} \\right)}}{2 \\cos{\\left(\\theta_{1} \\right)}} & r_{13} \\cos{\\left(\\theta_{1} \\right)} + \\frac{r_{23} \\sin{\\left(2 \\theta_{1} \\right)}}{2 \\cos{\\left(\\theta_{1} \\right)}} & p_{x} \\cos{\\left(\\theta_{1} \\right)} + \\frac{p_{y} \\sin{\\left(2 \\theta_{1} \\right)}}{2 \\cos{\\left(\\theta_{1} \\right)}}\\\\- r_{11} \\sin{\\left(\\theta_{1} \\right)} + r_{21} \\cos{\\left(\\theta_{1} \\right)} & - r_{12} \\sin{\\left(\\theta_{1} \\right)} + r_{22} \\cos{\\left(\\theta_{1} \\right)} & - r_{13} \\sin{\\left(\\theta_{1} \\right)} + r_{23} \\cos{\\left(\\theta_{1} \\right)} & - p_{x} \\sin{\\left(\\theta_{1} \\right)} + p_{y} \\cos{\\left(\\theta_{1} \\right)}\\\\r_{31} & r_{32} & r_{33} & - d_{1} + p_{z}\\\\0 & 0 & 0 & 1\\end{matrix}\\right]$"
      ],
      "text/plain": [
       "Matrix([\n",
       "[r_11*cos(theta_1) + r_21*sin(2*theta_1)/(2*cos(theta_1)), r_12*cos(theta_1) + r_22*sin(2*theta_1)/(2*cos(theta_1)), r_13*cos(theta_1) + r_23*sin(2*theta_1)/(2*cos(theta_1)), p_x*cos(theta_1) + p_y*sin(2*theta_1)/(2*cos(theta_1))],\n",
       "[                  -r_11*sin(theta_1) + r_21*cos(theta_1),                   -r_12*sin(theta_1) + r_22*cos(theta_1),                   -r_13*sin(theta_1) + r_23*cos(theta_1),                   -p_x*sin(theta_1) + p_y*cos(theta_1)],\n",
       "[                                                    r_31,                                                     r_32,                                                     r_33,                                             -d_1 + p_z],\n",
       "[                                                       0,                                                        0,                                                        0,                                                      1]])"
      ]
     },
     "metadata": {},
     "output_type": "display_data"
    },
    {
     "data": {
      "text/latex": [
       "$\\displaystyle \\left[\\begin{matrix}- \\sin{\\left(\\theta_{6} \\right)} \\sin{\\left(\\theta_{2} + \\theta_{3} + \\theta_{4} \\right)} + \\cos{\\left(\\theta_{5} \\right)} \\cos{\\left(\\theta_{6} \\right)} \\cos{\\left(\\theta_{2} + \\theta_{3} + \\theta_{4} \\right)} & - \\sin{\\left(\\theta_{6} \\right)} \\cos{\\left(\\theta_{5} \\right)} \\cos{\\left(\\theta_{2} + \\theta_{3} + \\theta_{4} \\right)} - \\sin{\\left(\\theta_{2} + \\theta_{3} + \\theta_{4} \\right)} \\cos{\\left(\\theta_{6} \\right)} & - \\sin{\\left(\\theta_{5} \\right)} \\cos{\\left(\\theta_{2} + \\theta_{3} + \\theta_{4} \\right)} & a_{2} \\cos{\\left(\\theta_{2} \\right)} + a_{3} \\cos{\\left(\\theta_{2} + \\theta_{3} \\right)} + d_{5} \\sin{\\left(\\theta_{2} + \\theta_{3} + \\theta_{4} \\right)} - d_{6} \\sin{\\left(\\theta_{5} \\right)} \\cos{\\left(\\theta_{2} + \\theta_{3} + \\theta_{4} \\right)}\\\\- \\sin{\\left(\\theta_{5} \\right)} \\cos{\\left(\\theta_{6} \\right)} & \\sin{\\left(\\theta_{5} \\right)} \\sin{\\left(\\theta_{6} \\right)} & - \\cos{\\left(\\theta_{5} \\right)} & - d_{4} - d_{6} \\cos{\\left(\\theta_{5} \\right)}\\\\\\sin{\\left(\\theta_{6} \\right)} \\cos{\\left(\\theta_{2} + \\theta_{3} + \\theta_{4} \\right)} + \\sin{\\left(\\theta_{2} + \\theta_{3} + \\theta_{4} \\right)} \\cos{\\left(\\theta_{5} \\right)} \\cos{\\left(\\theta_{6} \\right)} & - \\sin{\\left(\\theta_{6} \\right)} \\sin{\\left(\\theta_{2} + \\theta_{3} + \\theta_{4} \\right)} \\cos{\\left(\\theta_{5} \\right)} + \\cos{\\left(\\theta_{6} \\right)} \\cos{\\left(\\theta_{2} + \\theta_{3} + \\theta_{4} \\right)} & - \\sin{\\left(\\theta_{5} \\right)} \\sin{\\left(\\theta_{2} + \\theta_{3} + \\theta_{4} \\right)} & a_{2} \\sin{\\left(\\theta_{2} \\right)} + a_{3} \\sin{\\left(\\theta_{2} + \\theta_{3} \\right)} - d_{5} \\cos{\\left(\\theta_{2} + \\theta_{3} + \\theta_{4} \\right)} - d_{6} \\sin{\\left(\\theta_{5} \\right)} \\sin{\\left(\\theta_{2} + \\theta_{3} + \\theta_{4} \\right)}\\\\0 & 0 & 0 & 1\\end{matrix}\\right]$"
      ],
      "text/plain": [
       "Matrix([\n",
       "[-sin(theta_6)*sin(theta_2 + theta_3 + theta_4) + cos(theta_5)*cos(theta_6)*cos(theta_2 + theta_3 + theta_4), -sin(theta_6)*cos(theta_5)*cos(theta_2 + theta_3 + theta_4) - sin(theta_2 + theta_3 + theta_4)*cos(theta_6), -sin(theta_5)*cos(theta_2 + theta_3 + theta_4), a_2*cos(theta_2) + a_3*cos(theta_2 + theta_3) + d_5*sin(theta_2 + theta_3 + theta_4) - d_6*sin(theta_5)*cos(theta_2 + theta_3 + theta_4)],\n",
       "[                                                                                 -sin(theta_5)*cos(theta_6),                                                                                   sin(theta_5)*sin(theta_6),                                  -cos(theta_5),                                                                                                                  -d_4 - d_6*cos(theta_5)],\n",
       "[ sin(theta_6)*cos(theta_2 + theta_3 + theta_4) + sin(theta_2 + theta_3 + theta_4)*cos(theta_5)*cos(theta_6), -sin(theta_6)*sin(theta_2 + theta_3 + theta_4)*cos(theta_5) + cos(theta_6)*cos(theta_2 + theta_3 + theta_4), -sin(theta_5)*sin(theta_2 + theta_3 + theta_4), a_2*sin(theta_2) + a_3*sin(theta_2 + theta_3) - d_5*cos(theta_2 + theta_3 + theta_4) - d_6*sin(theta_5)*sin(theta_2 + theta_3 + theta_4)],\n",
       "[                                                                                                          0,                                                                                                           0,                                              0,                                                                                                                                        1]])"
      ]
     },
     "metadata": {},
     "output_type": "display_data"
    }
   ],
   "source": [
    "t16_l = simplify(t01**-1 * t)  # left hand side of the equation\n",
    "t16 = simplify(t12 * t23 * t34 * t45 * t56)\n",
    "display(t16_l)\n",
    "display(t16)"
   ]
  },
  {
   "cell_type": "markdown",
   "id": "6b2a9630-ef25-48a8-a3d6-3508d57cf660",
   "metadata": {},
   "source": [
    "## $\\theta_1$"
   ]
  },
  {
   "cell_type": "code",
   "execution_count": 6,
   "id": "3ddec171-4b52-49da-a5b5-519aefa2ff23",
   "metadata": {},
   "outputs": [
    {
     "data": {
      "text/latex": [
       "$\\displaystyle - p_{x} \\sin{\\left(\\theta_{1} \\right)} + p_{y} \\cos{\\left(\\theta_{1} \\right)} = - d_{4} - d_{6} r_{13} \\sin{\\left(\\theta_{1} \\right)} + d_{6} r_{23} \\cos{\\left(\\theta_{1} \\right)}$"
      ],
      "text/plain": [
       "Eq(-p_x*sin(theta_1) + p_y*cos(theta_1), -d_4 - d_6*r_13*sin(theta_1) + d_6*r_23*cos(theta_1))"
      ]
     },
     "metadata": {},
     "output_type": "display_data"
    },
    {
     "data": {
      "text/latex": [
       "$\\displaystyle 2 \\operatorname{atan}{\\left(\\frac{- d_{6} r_{13} + p_{x} + \\sqrt{- d_{4}^{2} + d_{6}^{2} r_{13}^{2} + d_{6}^{2} r_{23}^{2} - 2 d_{6} p_{x} r_{13} - 2 d_{6} p_{y} r_{23} + p_{x}^{2} + p_{y}^{2}}}{d_{4} + d_{6} r_{23} - p_{y}} \\right)}$"
      ],
      "text/plain": [
       "2*atan((-d_6*r_13 + p_x + sqrt(-d_4**2 + d_6**2*r_13**2 + d_6**2*r_23**2 - 2*d_6*p_x*r_13 - 2*d_6*p_y*r_23 + p_x**2 + p_y**2))/(d_4 + d_6*r_23 - p_y))"
      ]
     },
     "metadata": {},
     "output_type": "display_data"
    },
    {
     "data": {
      "text/latex": [
       "$\\displaystyle - 2 \\operatorname{atan}{\\left(\\frac{d_{6} r_{13} - p_{x} + \\sqrt{- d_{4}^{2} + d_{6}^{2} r_{13}^{2} + d_{6}^{2} r_{23}^{2} - 2 d_{6} p_{x} r_{13} - 2 d_{6} p_{y} r_{23} + p_{x}^{2} + p_{y}^{2}}}{d_{4} + d_{6} r_{23} - p_{y}} \\right)}$"
      ],
      "text/plain": [
       "-2*atan((d_6*r_13 - p_x + sqrt(-d_4**2 + d_6**2*r_13**2 + d_6**2*r_23**2 - 2*d_6*p_x*r_13 - 2*d_6*p_y*r_23 + p_x**2 + p_y**2))/(d_4 + d_6*r_23 - p_y))"
      ]
     },
     "metadata": {},
     "output_type": "display_data"
    }
   ],
   "source": [
    "eq1r = simplify(t16[1, 3].replace(cos(theta5), -t16_l[1, 2]))\n",
    "eq1 = Eq(t16_l[1, 3], eq1r)\n",
    "display(eq1)\n",
    "theta1_s = solve(eq1, theta1)\n",
    "theta1_s1 = simplify(theta1_s[0])\n",
    "theta1_s2 = simplify(theta1_s[1])\n",
    "display(theta1_s1)\n",
    "display(theta1_s2)\n",
    "tan_theta1s1 = "
   ]
  },
  {
   "cell_type": "markdown",
   "id": "7ac32f6f-f6fb-417b-8bb2-b609e601244d",
   "metadata": {},
   "source": [
    "## $\\theta_5$"
   ]
  },
  {
   "cell_type": "code",
   "execution_count": 10,
   "id": "af21d222-ef14-4d75-8013-28a3b520af85",
   "metadata": {},
   "outputs": [
    {
     "data": {
      "text/latex": [
       "$\\displaystyle \\frac{2 r_{13} t_{1} + r_{23} t_{1}^{2} - r_{23}}{t_{1}^{2} + 1}$"
      ],
      "text/plain": [
       "(2*r_13*t_1 + r_23*t_1**2 - r_23)/(t_1**2 + 1)"
      ]
     },
     "metadata": {},
     "output_type": "display_data"
    }
   ],
   "source": [
    "tan_theta1 = symbols('t_1')\n",
    "cos_theta5 = simplify(-t16_l[1, 2].evalf(subs={\"theta_1\": 2 * atan(tan_theta1)}))\n",
    "display(cos_theta5)"
   ]
  },
  {
   "cell_type": "markdown",
   "id": "81bcbc74-e477-4042-8bec-b55451fdac7e",
   "metadata": {},
   "source": [
    "Theoratically, we can solve four $\\theta_5$ from two $\\theta_1$."
   ]
  },
  {
   "cell_type": "markdown",
   "id": "da125c99-641e-4fa2-bc5a-9c6dc9c95cec",
   "metadata": {},
   "source": [
    "## $\\theta_6$ \n",
    "\n",
    "Using (2, 1) and (2, 2), we can solve four $\\theta_6$ from four $\\theta_5$."
   ]
  },
  {
   "cell_type": "markdown",
   "id": "4a1109f8-5699-41c6-9bcc-ef2deba76313",
   "metadata": {},
   "source": [
    "## $\\theta_2 + \\theta_3 + \\theta_4$"
   ]
  },
  {
   "cell_type": "code",
   "execution_count": 13,
   "id": "5e2adeec-82a4-47a8-85da-79fe26072419",
   "metadata": {},
   "outputs": [
    {
     "data": {
      "text/latex": [
       "$\\displaystyle \\left[\\begin{matrix}\\cos{\\left(\\theta_{2} + \\theta_{3} + \\theta_{4} \\right)} & - \\sin{\\left(\\theta_{2} + \\theta_{3} + \\theta_{4} \\right)} & 0 & a_{2} \\cos{\\left(\\theta_{2} \\right)} + a_{3} \\cos{\\left(\\theta_{2} + \\theta_{3} \\right)}\\\\0 & 0 & -1 & - d_{4}\\\\\\sin{\\left(\\theta_{2} + \\theta_{3} + \\theta_{4} \\right)} & \\cos{\\left(\\theta_{2} + \\theta_{3} + \\theta_{4} \\right)} & 0 & a_{2} \\sin{\\left(\\theta_{2} \\right)} + a_{3} \\sin{\\left(\\theta_{2} + \\theta_{3} \\right)}\\\\0 & 0 & 0 & 1\\end{matrix}\\right]$"
      ],
      "text/plain": [
       "Matrix([\n",
       "[cos(theta_2 + theta_3 + theta_4), -sin(theta_2 + theta_3 + theta_4),  0, a_2*cos(theta_2) + a_3*cos(theta_2 + theta_3)],\n",
       "[                               0,                                 0, -1,                                          -d_4],\n",
       "[sin(theta_2 + theta_3 + theta_4),  cos(theta_2 + theta_3 + theta_4),  0, a_2*sin(theta_2) + a_3*sin(theta_2 + theta_3)],\n",
       "[                               0,                                 0,  0,                                             1]])"
      ]
     },
     "execution_count": 13,
     "metadata": {},
     "output_type": "execute_result"
    }
   ],
   "source": [
    "simplify(t12 * t23 * t34)"
   ]
  },
  {
   "cell_type": "code",
   "execution_count": 12,
   "id": "1cffb2d3-be6a-4faa-88c3-30e29dee00cb",
   "metadata": {},
   "outputs": [
    {
     "data": {
      "text/latex": [
       "$\\displaystyle \\left[\\begin{matrix}\\cos{\\left(\\theta_{3} + \\theta_{4} \\right)} & - \\sin{\\left(\\theta_{3} + \\theta_{4} \\right)} & 0 & a_{2} + a_{3} \\cos{\\left(\\theta_{3} \\right)}\\\\\\sin{\\left(\\theta_{3} + \\theta_{4} \\right)} & \\cos{\\left(\\theta_{3} + \\theta_{4} \\right)} & 0 & a_{3} \\sin{\\left(\\theta_{3} \\right)}\\\\0 & 0 & 1 & d_{4}\\\\0 & 0 & 0 & 1\\end{matrix}\\right]$"
      ],
      "text/plain": [
       "Matrix([\n",
       "[cos(theta_3 + theta_4), -sin(theta_3 + theta_4), 0, a_2 + a_3*cos(theta_3)],\n",
       "[sin(theta_3 + theta_4),  cos(theta_3 + theta_4), 0,       a_3*sin(theta_3)],\n",
       "[                     0,                       0, 1,                    d_4],\n",
       "[                     0,                       0, 0,                      1]])"
      ]
     },
     "metadata": {},
     "output_type": "display_data"
    },
    {
     "data": {
      "text/latex": [
       "$\\displaystyle \\left[\\begin{matrix}r_{11} \\cos{\\left(\\theta_{2} \\right)} + \\frac{r_{31} \\sin{\\left(2 \\theta_{2} \\right)}}{2 \\cos{\\left(\\theta_{2} \\right)}} & r_{12} \\cos{\\left(\\theta_{2} \\right)} + \\frac{r_{32} \\sin{\\left(2 \\theta_{2} \\right)}}{2 \\cos{\\left(\\theta_{2} \\right)}} & r_{13} \\cos{\\left(\\theta_{2} \\right)} + \\frac{r_{33} \\sin{\\left(2 \\theta_{2} \\right)}}{2 \\cos{\\left(\\theta_{2} \\right)}} & p_{x} \\cos{\\left(\\theta_{2} \\right)} + \\frac{p_{z} \\sin{\\left(2 \\theta_{2} \\right)}}{2 \\cos{\\left(\\theta_{2} \\right)}}\\\\- r_{11} \\sin{\\left(\\theta_{2} \\right)} + r_{31} \\cos{\\left(\\theta_{2} \\right)} & - r_{12} \\sin{\\left(\\theta_{2} \\right)} + r_{32} \\cos{\\left(\\theta_{2} \\right)} & - r_{13} \\sin{\\left(\\theta_{2} \\right)} + r_{33} \\cos{\\left(\\theta_{2} \\right)} & - p_{x} \\sin{\\left(\\theta_{2} \\right)} + p_{z} \\cos{\\left(\\theta_{2} \\right)}\\\\- r_{21} & - r_{22} & - r_{23} & - p_{y}\\\\0 & 0 & 0 & 1\\end{matrix}\\right]$"
      ],
      "text/plain": [
       "Matrix([\n",
       "[r_11*cos(theta_2) + r_31*sin(2*theta_2)/(2*cos(theta_2)), r_12*cos(theta_2) + r_32*sin(2*theta_2)/(2*cos(theta_2)), r_13*cos(theta_2) + r_33*sin(2*theta_2)/(2*cos(theta_2)), p_x*cos(theta_2) + p_z*sin(2*theta_2)/(2*cos(theta_2))],\n",
       "[                  -r_11*sin(theta_2) + r_31*cos(theta_2),                   -r_12*sin(theta_2) + r_32*cos(theta_2),                   -r_13*sin(theta_2) + r_33*cos(theta_2),                   -p_x*sin(theta_2) + p_z*cos(theta_2)],\n",
       "[                                                   -r_21,                                                    -r_22,                                                    -r_23,                                                   -p_y],\n",
       "[                                                       0,                                                        0,                                                        0,                                                      1]])"
      ]
     },
     "metadata": {},
     "output_type": "display_data"
    }
   ],
   "source": [
    "t24 = simplify(t23 * t34)\n",
    "t24_l = simplify(t12**-1 * t)\n",
    "display(t24)\n",
    "display(t24_l)"
   ]
  },
  {
   "cell_type": "code",
   "execution_count": 14,
   "id": "42a38f2f-7f61-4a29-93ac-9c45b4e7cb83",
   "metadata": {},
   "outputs": [
    {
     "data": {
      "text/latex": [
       "$\\displaystyle \\left[\\begin{matrix}\\cos{\\left(\\theta_{2} + \\theta_{3} \\right)} & - \\sin{\\left(\\theta_{2} + \\theta_{3} \\right)} & 0 & a_{2} \\cos{\\left(\\theta_{2} \\right)}\\\\0 & 0 & -1 & 0\\\\\\sin{\\left(\\theta_{2} + \\theta_{3} \\right)} & \\cos{\\left(\\theta_{2} + \\theta_{3} \\right)} & 0 & a_{2} \\sin{\\left(\\theta_{2} \\right)}\\\\0 & 0 & 0 & 1\\end{matrix}\\right]$"
      ],
      "text/plain": [
       "Matrix([\n",
       "[cos(theta_2 + theta_3), -sin(theta_2 + theta_3),  0, a_2*cos(theta_2)],\n",
       "[                     0,                       0, -1,                0],\n",
       "[sin(theta_2 + theta_3),  cos(theta_2 + theta_3),  0, a_2*sin(theta_2)],\n",
       "[                     0,                       0,  0,                1]])"
      ]
     },
     "metadata": {},
     "output_type": "display_data"
    },
    {
     "data": {
      "text/latex": [
       "$\\displaystyle \\left[\\begin{matrix}r_{11} \\cos{\\left(\\theta_{4} \\right)} - r_{12} \\sin{\\left(\\theta_{4} \\right)} & r_{11} \\sin{\\left(\\theta_{4} \\right)} + r_{12} \\cos{\\left(\\theta_{4} \\right)} & r_{13} & - a_{3} r_{11} \\cos{\\left(\\theta_{4} \\right)} + a_{3} r_{12} \\sin{\\left(\\theta_{4} \\right)} - d_{4} r_{13} + p_{x}\\\\r_{21} \\cos{\\left(\\theta_{4} \\right)} - r_{22} \\sin{\\left(\\theta_{4} \\right)} & r_{21} \\sin{\\left(\\theta_{4} \\right)} + r_{22} \\cos{\\left(\\theta_{4} \\right)} & r_{23} & - a_{3} r_{21} \\cos{\\left(\\theta_{4} \\right)} + a_{3} r_{22} \\sin{\\left(\\theta_{4} \\right)} - d_{4} r_{23} + p_{y}\\\\r_{31} \\cos{\\left(\\theta_{4} \\right)} - r_{32} \\sin{\\left(\\theta_{4} \\right)} & r_{31} \\sin{\\left(\\theta_{4} \\right)} + r_{32} \\cos{\\left(\\theta_{4} \\right)} & r_{33} & - a_{3} r_{31} \\cos{\\left(\\theta_{4} \\right)} + a_{3} r_{32} \\sin{\\left(\\theta_{4} \\right)} - d_{4} r_{33} + p_{z}\\\\0 & 0 & 0 & 1\\end{matrix}\\right]$"
      ],
      "text/plain": [
       "Matrix([\n",
       "[r_11*cos(theta_4) - r_12*sin(theta_4), r_11*sin(theta_4) + r_12*cos(theta_4), r_13, -a_3*r_11*cos(theta_4) + a_3*r_12*sin(theta_4) - d_4*r_13 + p_x],\n",
       "[r_21*cos(theta_4) - r_22*sin(theta_4), r_21*sin(theta_4) + r_22*cos(theta_4), r_23, -a_3*r_21*cos(theta_4) + a_3*r_22*sin(theta_4) - d_4*r_23 + p_y],\n",
       "[r_31*cos(theta_4) - r_32*sin(theta_4), r_31*sin(theta_4) + r_32*cos(theta_4), r_33, -a_3*r_31*cos(theta_4) + a_3*r_32*sin(theta_4) - d_4*r_33 + p_z],\n",
       "[                                    0,                                     0,    0,                                                               1]])"
      ]
     },
     "metadata": {},
     "output_type": "display_data"
    }
   ],
   "source": [
    "t13 = simplify(t12 * t23)\n",
    "t13_l = simplify(t * t34**-1)\n",
    "display(t13)\n",
    "display(t13_l)"
   ]
  }
 ],
 "metadata": {
  "kernelspec": {
   "display_name": "Python 3 (ipykernel)",
   "language": "python",
   "name": "python3"
  },
  "language_info": {
   "codemirror_mode": {
    "name": "ipython",
    "version": 3
   },
   "file_extension": ".py",
   "mimetype": "text/x-python",
   "name": "python",
   "nbconvert_exporter": "python",
   "pygments_lexer": "ipython3",
   "version": "3.12.6"
  }
 },
 "nbformat": 4,
 "nbformat_minor": 5
}
