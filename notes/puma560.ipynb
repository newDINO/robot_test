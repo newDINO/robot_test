{
 "cells": [
  {
   "cell_type": "code",
   "execution_count": 3,
   "id": "64c366a0-280a-4550-ae81-d0ef5811913f",
   "metadata": {},
   "outputs": [],
   "source": [
    "from sympy import *"
   ]
  },
  {
   "cell_type": "markdown",
   "id": "376b7910",
   "metadata": {},
   "source": [
    "## Kenimatics\n",
    "Denavit-Hartenberg Parameters  \n",
    "| $i$ | $\\alpha_{i-1}$ | $a_{i-1}$ | $d$ |\n",
    "|---|---|---|---|\n",
    "| 1 | 0 | 0 | 0 |\n",
    "| 2 | $-\\pi/2$ | 0 | 0 |\n",
    "| 3 | 0 | $a_2$ | $d_3$ |\n",
    "| 4 | $-\\pi/2$ | $a_3$ | $d_4$ |\n",
    "| 5 | $\\pi/2$ | 0 | 0 |\n",
    "| 6 | $-\\pi/2$ | 0 | 0 |"
   ]
  },
  {
   "cell_type": "code",
   "execution_count": 4,
   "id": "fc8ff1c0",
   "metadata": {},
   "outputs": [
    {
     "data": {
      "text/latex": [
       "$\\displaystyle \\left[\\begin{matrix}\\sin{\\left(\\theta_{1} \\right)} \\sin{\\left(\\theta_{4} \\right)} \\cos{\\left(\\theta_{4} \\right)} \\cos{\\left(\\theta_{5} \\right)} + \\sin{\\left(\\theta_{1} \\right)} \\sin{\\left(\\theta_{5} \\right)} \\cos{\\left(\\theta_{4} \\right)} - \\sin{\\left(\\theta_{4} \\right)} \\sin{\\left(\\theta_{2} + \\theta_{3} + \\theta_{5} \\right)} \\cos{\\left(\\theta_{1} \\right)} + \\cos{\\left(\\theta_{1} \\right)} \\cos^{2}{\\left(\\theta_{4} \\right)} \\cos{\\left(\\theta_{5} \\right)} \\cos{\\left(\\theta_{2} + \\theta_{3} \\right)} & - \\sin{\\left(\\theta_{1} \\right)} \\sin{\\left(\\theta_{4} \\right)} \\sin{\\left(\\theta_{5} \\right)} \\cos{\\left(\\theta_{4} \\right)} + \\sin{\\left(\\theta_{1} \\right)} \\cos{\\left(\\theta_{4} \\right)} \\cos{\\left(\\theta_{5} \\right)} - \\sin{\\left(\\theta_{4} \\right)} \\cos{\\left(\\theta_{1} \\right)} \\cos{\\left(\\theta_{2} + \\theta_{3} + \\theta_{5} \\right)} - \\sin{\\left(\\theta_{5} \\right)} \\cos{\\left(\\theta_{1} \\right)} \\cos^{2}{\\left(\\theta_{4} \\right)} \\cos{\\left(\\theta_{2} + \\theta_{3} \\right)} & - \\sin{\\left(\\theta_{1} \\right)} \\sin^{2}{\\left(\\theta_{4} \\right)} - \\sin{\\left(\\theta_{4} \\right)} \\cos{\\left(\\theta_{1} \\right)} \\cos{\\left(\\theta_{4} \\right)} \\cos{\\left(\\theta_{2} + \\theta_{3} \\right)} - \\sin{\\left(\\theta_{2} + \\theta_{3} \\right)} \\cos{\\left(\\theta_{1} \\right)} \\cos{\\left(\\theta_{4} \\right)} & a_{2} \\cos{\\left(\\theta_{1} \\right)} \\cos{\\left(\\theta_{2} \\right)} + a_{3} \\cos{\\left(\\theta_{1} \\right)} \\cos{\\left(\\theta_{2} + \\theta_{3} \\right)} - d_{3} \\sin{\\left(\\theta_{1} \\right)} - d_{4} \\sin{\\left(\\theta_{2} + \\theta_{3} \\right)} \\cos{\\left(\\theta_{1} \\right)}\\\\- \\sin{\\left(\\theta_{1} \\right)} \\sin{\\left(\\theta_{4} \\right)} \\sin{\\left(\\theta_{2} + \\theta_{3} + \\theta_{5} \\right)} + \\sin{\\left(\\theta_{1} \\right)} \\cos^{2}{\\left(\\theta_{4} \\right)} \\cos{\\left(\\theta_{5} \\right)} \\cos{\\left(\\theta_{2} + \\theta_{3} \\right)} - \\sin{\\left(\\theta_{4} \\right)} \\cos{\\left(\\theta_{1} \\right)} \\cos{\\left(\\theta_{4} \\right)} \\cos{\\left(\\theta_{5} \\right)} - \\sin{\\left(\\theta_{5} \\right)} \\cos{\\left(\\theta_{1} \\right)} \\cos{\\left(\\theta_{4} \\right)} & - \\sin{\\left(\\theta_{1} \\right)} \\sin{\\left(\\theta_{4} \\right)} \\cos{\\left(\\theta_{2} + \\theta_{3} + \\theta_{5} \\right)} - \\sin{\\left(\\theta_{1} \\right)} \\sin{\\left(\\theta_{5} \\right)} \\cos^{2}{\\left(\\theta_{4} \\right)} \\cos{\\left(\\theta_{2} + \\theta_{3} \\right)} + \\sin{\\left(\\theta_{4} \\right)} \\sin{\\left(\\theta_{5} \\right)} \\cos{\\left(\\theta_{1} \\right)} \\cos{\\left(\\theta_{4} \\right)} - \\cos{\\left(\\theta_{1} \\right)} \\cos{\\left(\\theta_{4} \\right)} \\cos{\\left(\\theta_{5} \\right)} & \\left(- \\sin{\\left(\\theta_{1} \\right)} \\cos{\\left(\\theta_{4} \\right)} \\cos{\\left(\\theta_{2} + \\theta_{3} \\right)} + \\sin{\\left(\\theta_{4} \\right)} \\cos{\\left(\\theta_{1} \\right)}\\right) \\sin{\\left(\\theta_{4} \\right)} - \\sin{\\left(\\theta_{1} \\right)} \\sin{\\left(\\theta_{2} + \\theta_{3} \\right)} \\cos{\\left(\\theta_{4} \\right)} & a_{2} \\sin{\\left(\\theta_{1} \\right)} \\cos{\\left(\\theta_{2} \\right)} + a_{3} \\sin{\\left(\\theta_{1} \\right)} \\cos{\\left(\\theta_{2} + \\theta_{3} \\right)} + d_{3} \\cos{\\left(\\theta_{1} \\right)} - d_{4} \\sin{\\left(\\theta_{1} \\right)} \\sin{\\left(\\theta_{2} + \\theta_{3} \\right)}\\\\- \\sin{\\left(\\theta_{4} \\right)} \\cos{\\left(\\theta_{2} + \\theta_{3} + \\theta_{5} \\right)} - \\sin{\\left(\\theta_{2} + \\theta_{3} \\right)} \\cos^{2}{\\left(\\theta_{4} \\right)} \\cos{\\left(\\theta_{5} \\right)} & \\sin{\\left(\\theta_{4} \\right)} \\sin{\\left(\\theta_{2} + \\theta_{3} + \\theta_{5} \\right)} + \\sin{\\left(\\theta_{5} \\right)} \\sin{\\left(\\theta_{2} + \\theta_{3} \\right)} \\cos^{2}{\\left(\\theta_{4} \\right)} & \\left(\\sin{\\left(\\theta_{4} \\right)} \\sin{\\left(\\theta_{2} + \\theta_{3} \\right)} - \\cos{\\left(\\theta_{2} + \\theta_{3} \\right)}\\right) \\cos{\\left(\\theta_{4} \\right)} & - a_{2} \\sin{\\left(\\theta_{2} \\right)} - a_{3} \\sin{\\left(\\theta_{2} + \\theta_{3} \\right)} - d_{4} \\cos{\\left(\\theta_{2} + \\theta_{3} \\right)}\\\\0 & 0 & 0 & 1\\end{matrix}\\right]$"
      ],
      "text/plain": [
       "Matrix([\n",
       "[ sin(theta_1)*sin(theta_4)*cos(theta_4)*cos(theta_5) + sin(theta_1)*sin(theta_5)*cos(theta_4) - sin(theta_4)*sin(theta_2 + theta_3 + theta_5)*cos(theta_1) + cos(theta_1)*cos(theta_4)**2*cos(theta_5)*cos(theta_2 + theta_3), -sin(theta_1)*sin(theta_4)*sin(theta_5)*cos(theta_4) + sin(theta_1)*cos(theta_4)*cos(theta_5) - sin(theta_4)*cos(theta_1)*cos(theta_2 + theta_3 + theta_5) - sin(theta_5)*cos(theta_1)*cos(theta_4)**2*cos(theta_2 + theta_3), -sin(theta_1)*sin(theta_4)**2 - sin(theta_4)*cos(theta_1)*cos(theta_4)*cos(theta_2 + theta_3) - sin(theta_2 + theta_3)*cos(theta_1)*cos(theta_4), a_2*cos(theta_1)*cos(theta_2) + a_3*cos(theta_1)*cos(theta_2 + theta_3) - d_3*sin(theta_1) - d_4*sin(theta_2 + theta_3)*cos(theta_1)],\n",
       "[-sin(theta_1)*sin(theta_4)*sin(theta_2 + theta_3 + theta_5) + sin(theta_1)*cos(theta_4)**2*cos(theta_5)*cos(theta_2 + theta_3) - sin(theta_4)*cos(theta_1)*cos(theta_4)*cos(theta_5) - sin(theta_5)*cos(theta_1)*cos(theta_4), -sin(theta_1)*sin(theta_4)*cos(theta_2 + theta_3 + theta_5) - sin(theta_1)*sin(theta_5)*cos(theta_4)**2*cos(theta_2 + theta_3) + sin(theta_4)*sin(theta_5)*cos(theta_1)*cos(theta_4) - cos(theta_1)*cos(theta_4)*cos(theta_5),  (-sin(theta_1)*cos(theta_4)*cos(theta_2 + theta_3) + sin(theta_4)*cos(theta_1))*sin(theta_4) - sin(theta_1)*sin(theta_2 + theta_3)*cos(theta_4), a_2*sin(theta_1)*cos(theta_2) + a_3*sin(theta_1)*cos(theta_2 + theta_3) + d_3*cos(theta_1) - d_4*sin(theta_1)*sin(theta_2 + theta_3)],\n",
       "[                                                                                                                         -sin(theta_4)*cos(theta_2 + theta_3 + theta_5) - sin(theta_2 + theta_3)*cos(theta_4)**2*cos(theta_5),                                                                                                                           sin(theta_4)*sin(theta_2 + theta_3 + theta_5) + sin(theta_5)*sin(theta_2 + theta_3)*cos(theta_4)**2,                                                                      (sin(theta_4)*sin(theta_2 + theta_3) - cos(theta_2 + theta_3))*cos(theta_4),                                                          -a_2*sin(theta_2) - a_3*sin(theta_2 + theta_3) - d_4*cos(theta_2 + theta_3)],\n",
       "[                                                                                                                                                                                                                            0,                                                                                                                                                                                                                             0,                                                                                                                                                0,                                                                                                                                    1]])"
      ]
     },
     "execution_count": 4,
     "metadata": {},
     "output_type": "execute_result"
    }
   ],
   "source": [
    "def t_joint(theta, alpha, a, d):\n",
    "    return Matrix([\n",
    "        [cos(theta), -sin(theta), 0, a],\n",
    "        [sin(theta) * cos(alpha), cos(theta) * cos(alpha), -sin(alpha), -sin(alpha) * d],\n",
    "        [sin(theta) * sin(alpha), cos(theta) * sin(alpha), cos(alpha), cos(alpha) *d],\n",
    "        [0, 0, 0, 1]\n",
    "    ])\n",
    "a2, a3, d3, d4, theta1, theta2, theta3, theta4, theta5, theta6 = symbols(\"a_2 a_3 d_3 d_4 theta_1 theta_2 theta_3 theta_4 theta_5 theta_6\")\n",
    "t01 = t_joint(theta1, 0, 0, 0)\n",
    "t12 = t_joint(theta2, -pi / 2, 0, 0)\n",
    "t23 = t_joint(theta3, 0, a2, d3)\n",
    "t34 = t_joint(theta4, -pi / 2, a3, d4)\n",
    "t45 = t_joint(theta4, pi / 2, 0, 0)\n",
    "t56 = t_joint(theta5, -pi / 2, 0, 0)\n",
    "t06 = t01 * t12 * t23 * t34 * t45 * t56\n",
    "t06 = simplify(t06)\n",
    "t06"
   ]
  },
  {
   "cell_type": "markdown",
   "id": "ab24ca7b-087c-41b2-a399-d3822252c305",
   "metadata": {},
   "source": [
    "## Inverse Kenimatics"
   ]
  },
  {
   "cell_type": "code",
   "execution_count": 5,
   "id": "2e0720a0-722d-46bf-8150-8d6f6b5c73ec",
   "metadata": {},
   "outputs": [
    {
     "data": {
      "text/latex": [
       "$\\displaystyle \\left[\\begin{matrix}r_{11} & r_{12} & r_{13} & p_{x}\\\\r_{21} & r_{22} & r_{23} & p_{y}\\\\r_{31} & r_{32} & r_{33} & p_{z}\\\\0 & 0 & 0 & 1\\end{matrix}\\right]$"
      ],
      "text/plain": [
       "Matrix([\n",
       "[r_11, r_12, r_13, p_x],\n",
       "[r_21, r_22, r_23, p_y],\n",
       "[r_31, r_32, r_33, p_z],\n",
       "[   0,    0,    0,   1]])"
      ]
     },
     "execution_count": 5,
     "metadata": {},
     "output_type": "execute_result"
    }
   ],
   "source": [
    "r11, r12, r13, r21, r22, r23, r31, r32, r33, px, py, pz = symbols(\"r_11, r_12, r_13, r_21, r_22, r_23, r_31, r_32, r_33, p_x, p_y, p_z\")\n",
    "t = Matrix([\n",
    "    [r11, r12, r13, px],\n",
    "    [r21, r22, r23, py],\n",
    "    [r31, r32, r33, pz],\n",
    "    [0, 0, 0, 1]\n",
    "])\n",
    "t"
   ]
  },
  {
   "cell_type": "markdown",
   "id": "5ddbc4ab-f45c-49fe-aa4c-6bfed2f071ac",
   "metadata": {},
   "source": [
    "$T = ^0_6T$  \n",
    "$^0_1T^{-1} T = ^1_6T $"
   ]
  },
  {
   "cell_type": "code",
   "execution_count": 8,
   "id": "0b3c045e-3108-4e3f-96cf-a45f0ea65b3a",
   "metadata": {},
   "outputs": [
    {
     "data": {
      "text/latex": [
       "$\\displaystyle \\left[\\begin{matrix}r_{11} \\cos{\\left(\\theta_{1} \\right)} + \\frac{r_{21} \\sin{\\left(2 \\theta_{1} \\right)}}{2 \\cos{\\left(\\theta_{1} \\right)}} & r_{12} \\cos{\\left(\\theta_{1} \\right)} + \\frac{r_{22} \\sin{\\left(2 \\theta_{1} \\right)}}{2 \\cos{\\left(\\theta_{1} \\right)}} & r_{13} \\cos{\\left(\\theta_{1} \\right)} + \\frac{r_{23} \\sin{\\left(2 \\theta_{1} \\right)}}{2 \\cos{\\left(\\theta_{1} \\right)}} & p_{x} \\cos{\\left(\\theta_{1} \\right)} + \\frac{p_{y} \\sin{\\left(2 \\theta_{1} \\right)}}{2 \\cos{\\left(\\theta_{1} \\right)}}\\\\- r_{11} \\sin{\\left(\\theta_{1} \\right)} + r_{21} \\cos{\\left(\\theta_{1} \\right)} & - r_{12} \\sin{\\left(\\theta_{1} \\right)} + r_{22} \\cos{\\left(\\theta_{1} \\right)} & - r_{13} \\sin{\\left(\\theta_{1} \\right)} + r_{23} \\cos{\\left(\\theta_{1} \\right)} & - p_{x} \\sin{\\left(\\theta_{1} \\right)} + p_{y} \\cos{\\left(\\theta_{1} \\right)}\\\\r_{31} & r_{32} & r_{33} & p_{z}\\\\0 & 0 & 0 & 1\\end{matrix}\\right]$"
      ],
      "text/plain": [
       "Matrix([\n",
       "[r_11*cos(theta_1) + r_21*sin(2*theta_1)/(2*cos(theta_1)), r_12*cos(theta_1) + r_22*sin(2*theta_1)/(2*cos(theta_1)), r_13*cos(theta_1) + r_23*sin(2*theta_1)/(2*cos(theta_1)), p_x*cos(theta_1) + p_y*sin(2*theta_1)/(2*cos(theta_1))],\n",
       "[                  -r_11*sin(theta_1) + r_21*cos(theta_1),                   -r_12*sin(theta_1) + r_22*cos(theta_1),                   -r_13*sin(theta_1) + r_23*cos(theta_1),                   -p_x*sin(theta_1) + p_y*cos(theta_1)],\n",
       "[                                                    r_31,                                                     r_32,                                                     r_33,                                                    p_z],\n",
       "[                                                       0,                                                        0,                                                        0,                                                      1]])"
      ]
     },
     "metadata": {},
     "output_type": "display_data"
    },
    {
     "data": {
      "text/latex": [
       "$\\displaystyle \\left[\\begin{matrix}- \\sin{\\left(\\theta_{4} \\right)} \\sin{\\left(\\theta_{2} + \\theta_{3} + \\theta_{5} \\right)} + \\cos^{2}{\\left(\\theta_{4} \\right)} \\cos{\\left(\\theta_{5} \\right)} \\cos{\\left(\\theta_{2} + \\theta_{3} \\right)} & - \\sin{\\left(\\theta_{4} \\right)} \\cos{\\left(\\theta_{2} + \\theta_{3} + \\theta_{5} \\right)} - \\sin{\\left(\\theta_{5} \\right)} \\cos^{2}{\\left(\\theta_{4} \\right)} \\cos{\\left(\\theta_{2} + \\theta_{3} \\right)} & - \\left(\\sin{\\left(\\theta_{4} \\right)} \\cos{\\left(\\theta_{2} + \\theta_{3} \\right)} + \\sin{\\left(\\theta_{2} + \\theta_{3} \\right)}\\right) \\cos{\\left(\\theta_{4} \\right)} & a_{2} \\cos{\\left(\\theta_{2} \\right)} + a_{3} \\cos{\\left(\\theta_{2} + \\theta_{3} \\right)} - d_{4} \\sin{\\left(\\theta_{2} + \\theta_{3} \\right)}\\\\- \\left(\\sin{\\left(\\theta_{4} \\right)} \\cos{\\left(\\theta_{5} \\right)} + \\sin{\\left(\\theta_{5} \\right)}\\right) \\cos{\\left(\\theta_{4} \\right)} & \\left(\\sin{\\left(\\theta_{4} \\right)} \\sin{\\left(\\theta_{5} \\right)} - \\cos{\\left(\\theta_{5} \\right)}\\right) \\cos{\\left(\\theta_{4} \\right)} & \\sin^{2}{\\left(\\theta_{4} \\right)} & d_{3}\\\\- \\sin{\\left(\\theta_{4} \\right)} \\cos{\\left(\\theta_{2} + \\theta_{3} + \\theta_{5} \\right)} - \\sin{\\left(\\theta_{2} + \\theta_{3} \\right)} \\cos^{2}{\\left(\\theta_{4} \\right)} \\cos{\\left(\\theta_{5} \\right)} & \\sin{\\left(\\theta_{4} \\right)} \\sin{\\left(\\theta_{2} + \\theta_{3} + \\theta_{5} \\right)} + \\sin{\\left(\\theta_{5} \\right)} \\sin{\\left(\\theta_{2} + \\theta_{3} \\right)} \\cos^{2}{\\left(\\theta_{4} \\right)} & \\left(\\sin{\\left(\\theta_{4} \\right)} \\sin{\\left(\\theta_{2} + \\theta_{3} \\right)} - \\cos{\\left(\\theta_{2} + \\theta_{3} \\right)}\\right) \\cos{\\left(\\theta_{4} \\right)} & - a_{2} \\sin{\\left(\\theta_{2} \\right)} - a_{3} \\sin{\\left(\\theta_{2} + \\theta_{3} \\right)} - d_{4} \\cos{\\left(\\theta_{2} + \\theta_{3} \\right)}\\\\0 & 0 & 0 & 1\\end{matrix}\\right]$"
      ],
      "text/plain": [
       "Matrix([\n",
       "[-sin(theta_4)*sin(theta_2 + theta_3 + theta_5) + cos(theta_4)**2*cos(theta_5)*cos(theta_2 + theta_3), -sin(theta_4)*cos(theta_2 + theta_3 + theta_5) - sin(theta_5)*cos(theta_4)**2*cos(theta_2 + theta_3), -(sin(theta_4)*cos(theta_2 + theta_3) + sin(theta_2 + theta_3))*cos(theta_4),  a_2*cos(theta_2) + a_3*cos(theta_2 + theta_3) - d_4*sin(theta_2 + theta_3)],\n",
       "[                                            -(sin(theta_4)*cos(theta_5) + sin(theta_5))*cos(theta_4),                                              (sin(theta_4)*sin(theta_5) - cos(theta_5))*cos(theta_4),                                                              sin(theta_4)**2,                                                                         d_3],\n",
       "[-sin(theta_4)*cos(theta_2 + theta_3 + theta_5) - sin(theta_2 + theta_3)*cos(theta_4)**2*cos(theta_5),  sin(theta_4)*sin(theta_2 + theta_3 + theta_5) + sin(theta_5)*sin(theta_2 + theta_3)*cos(theta_4)**2,  (sin(theta_4)*sin(theta_2 + theta_3) - cos(theta_2 + theta_3))*cos(theta_4), -a_2*sin(theta_2) - a_3*sin(theta_2 + theta_3) - d_4*cos(theta_2 + theta_3)],\n",
       "[                                                                                                   0,                                                                                                    0,                                                                            0,                                                                           1]])"
      ]
     },
     "metadata": {},
     "output_type": "display_data"
    }
   ],
   "source": [
    "t16_l = simplify(t01**-1 * t)  # left hand side of the equation\n",
    "t16 = simplify(t12 * t23 * t34 * t45 * t56)\n",
    "display(t16_l)\n",
    "display(t16)"
   ]
  },
  {
   "cell_type": "markdown",
   "id": "ab0a0542-8bd7-4e33-bcaf-9d4b9d32a03d",
   "metadata": {},
   "source": [
    "Take notice of the (2, 4) element of both matrices, where we can directly solve $\\theta_1$"
   ]
  },
  {
   "cell_type": "code",
   "execution_count": 9,
   "id": "6022d7c2-27ae-42e8-b42f-9b08ad07e463",
   "metadata": {},
   "outputs": [
    {
     "data": {
      "text/latex": [
       "$\\displaystyle - p_{x} \\sin{\\left(\\theta_{1} \\right)} + p_{y} \\cos{\\left(\\theta_{1} \\right)} = d_{3}$"
      ],
      "text/plain": [
       "Eq(-p_x*sin(theta_1) + p_y*cos(theta_1), d_3)"
      ]
     },
     "metadata": {},
     "output_type": "display_data"
    },
    {
     "data": {
      "text/latex": [
       "$\\displaystyle - 2 \\operatorname{atan}{\\left(\\frac{p_{x} - \\sqrt{- d_{3}^{2} + p_{x}^{2} + p_{y}^{2}}}{d_{3} + p_{y}} \\right)}$"
      ],
      "text/plain": [
       "-2*atan((p_x - sqrt(-d_3**2 + p_x**2 + p_y**2))/(d_3 + p_y))"
      ]
     },
     "metadata": {},
     "output_type": "display_data"
    },
    {
     "data": {
      "text/latex": [
       "$\\displaystyle - 2 \\operatorname{atan}{\\left(\\frac{p_{x} + \\sqrt{- d_{3}^{2} + p_{x}^{2} + p_{y}^{2}}}{d_{3} + p_{y}} \\right)}$"
      ],
      "text/plain": [
       "-2*atan((p_x + sqrt(-d_3**2 + p_x**2 + p_y**2))/(d_3 + p_y))"
      ]
     },
     "metadata": {},
     "output_type": "display_data"
    }
   ],
   "source": [
    "eq1 = Eq(t16_l[1, 3], t16[1, 3])\n",
    "display(eq1)\n",
    "theta1_s = solve(eq1, theta1)\n",
    "theta1_s1 = simplify(theta1_s[0])\n",
    "theta1_s2 = simplify(theta1_s[1])\n",
    "display(theta1_s1)\n",
    "display(theta1_s2)"
   ]
  },
  {
   "cell_type": "code",
   "execution_count": 17,
   "id": "2008fa0e-7fc5-499b-8b3f-66545103a80d",
   "metadata": {},
   "outputs": [
    {
     "data": {
      "text/latex": [
       "$\\displaystyle a_{2}^{2} + 2 a_{2} a_{3} \\cos{\\left(\\theta_{3} \\right)} - 2 a_{2} d_{4} \\sin{\\left(\\theta_{3} \\right)} + a_{3}^{2} + d_{4}^{2} = - d_{3}^{2} + p_{x}^{2} + p_{y}^{2} + p_{z}^{2}$"
      ],
      "text/plain": [
       "Eq(a_2**2 + 2*a_2*a_3*cos(theta_3) - 2*a_2*d_4*sin(theta_3) + a_3**2 + d_4**2, -d_3**2 + p_x**2 + p_y**2 + p_z**2)"
      ]
     },
     "metadata": {},
     "output_type": "display_data"
    },
    {
     "data": {
      "text/latex": [
       "$\\displaystyle 2 \\operatorname{atan}{\\left(\\frac{2 a_{2} d_{4} - \\sqrt{- a_{2}^{4} + 2 a_{2}^{2} a_{3}^{2} - 2 a_{2}^{2} d_{3}^{2} + 2 a_{2}^{2} d_{4}^{2} + 2 a_{2}^{2} p_{x}^{2} + 2 a_{2}^{2} p_{y}^{2} + 2 a_{2}^{2} p_{z}^{2} - a_{3}^{4} - 2 a_{3}^{2} d_{3}^{2} - 2 a_{3}^{2} d_{4}^{2} + 2 a_{3}^{2} p_{x}^{2} + 2 a_{3}^{2} p_{y}^{2} + 2 a_{3}^{2} p_{z}^{2} - d_{3}^{4} - 2 d_{3}^{2} d_{4}^{2} + 2 d_{3}^{2} p_{x}^{2} + 2 d_{3}^{2} p_{y}^{2} + 2 d_{3}^{2} p_{z}^{2} - d_{4}^{4} + 2 d_{4}^{2} p_{x}^{2} + 2 d_{4}^{2} p_{y}^{2} + 2 d_{4}^{2} p_{z}^{2} - p_{x}^{4} - 2 p_{x}^{2} p_{y}^{2} - 2 p_{x}^{2} p_{z}^{2} - p_{y}^{4} - 2 p_{y}^{2} p_{z}^{2} - p_{z}^{4}}}{a_{2}^{2} - 2 a_{2} a_{3} + a_{3}^{2} + d_{3}^{2} + d_{4}^{2} - p_{x}^{2} - p_{y}^{2} - p_{z}^{2}} \\right)}$"
      ],
      "text/plain": [
       "2*atan((2*a_2*d_4 - sqrt(-a_2**4 + 2*a_2**2*a_3**2 - 2*a_2**2*d_3**2 + 2*a_2**2*d_4**2 + 2*a_2**2*p_x**2 + 2*a_2**2*p_y**2 + 2*a_2**2*p_z**2 - a_3**4 - 2*a_3**2*d_3**2 - 2*a_3**2*d_4**2 + 2*a_3**2*p_x**2 + 2*a_3**2*p_y**2 + 2*a_3**2*p_z**2 - d_3**4 - 2*d_3**2*d_4**2 + 2*d_3**2*p_x**2 + 2*d_3**2*p_y**2 + 2*d_3**2*p_z**2 - d_4**4 + 2*d_4**2*p_x**2 + 2*d_4**2*p_y**2 + 2*d_4**2*p_z**2 - p_x**4 - 2*p_x**2*p_y**2 - 2*p_x**2*p_z**2 - p_y**4 - 2*p_y**2*p_z**2 - p_z**4))/(a_2**2 - 2*a_2*a_3 + a_3**2 + d_3**2 + d_4**2 - p_x**2 - p_y**2 - p_z**2))"
      ]
     },
     "metadata": {},
     "output_type": "display_data"
    },
    {
     "data": {
      "text/latex": [
       "$\\displaystyle 2 \\operatorname{atan}{\\left(\\frac{2 a_{2} d_{4} + \\sqrt{- a_{2}^{4} + 2 a_{2}^{2} a_{3}^{2} - 2 a_{2}^{2} d_{3}^{2} + 2 a_{2}^{2} d_{4}^{2} + 2 a_{2}^{2} p_{x}^{2} + 2 a_{2}^{2} p_{y}^{2} + 2 a_{2}^{2} p_{z}^{2} - a_{3}^{4} - 2 a_{3}^{2} d_{3}^{2} - 2 a_{3}^{2} d_{4}^{2} + 2 a_{3}^{2} p_{x}^{2} + 2 a_{3}^{2} p_{y}^{2} + 2 a_{3}^{2} p_{z}^{2} - d_{3}^{4} - 2 d_{3}^{2} d_{4}^{2} + 2 d_{3}^{2} p_{x}^{2} + 2 d_{3}^{2} p_{y}^{2} + 2 d_{3}^{2} p_{z}^{2} - d_{4}^{4} + 2 d_{4}^{2} p_{x}^{2} + 2 d_{4}^{2} p_{y}^{2} + 2 d_{4}^{2} p_{z}^{2} - p_{x}^{4} - 2 p_{x}^{2} p_{y}^{2} - 2 p_{x}^{2} p_{z}^{2} - p_{y}^{4} - 2 p_{y}^{2} p_{z}^{2} - p_{z}^{4}}}{a_{2}^{2} - 2 a_{2} a_{3} + a_{3}^{2} + d_{3}^{2} + d_{4}^{2} - p_{x}^{2} - p_{y}^{2} - p_{z}^{2}} \\right)}$"
      ],
      "text/plain": [
       "2*atan((2*a_2*d_4 + sqrt(-a_2**4 + 2*a_2**2*a_3**2 - 2*a_2**2*d_3**2 + 2*a_2**2*d_4**2 + 2*a_2**2*p_x**2 + 2*a_2**2*p_y**2 + 2*a_2**2*p_z**2 - a_3**4 - 2*a_3**2*d_3**2 - 2*a_3**2*d_4**2 + 2*a_3**2*p_x**2 + 2*a_3**2*p_y**2 + 2*a_3**2*p_z**2 - d_3**4 - 2*d_3**2*d_4**2 + 2*d_3**2*p_x**2 + 2*d_3**2*p_y**2 + 2*d_3**2*p_z**2 - d_4**4 + 2*d_4**2*p_x**2 + 2*d_4**2*p_y**2 + 2*d_4**2*p_z**2 - p_x**4 - 2*p_x**2*p_y**2 - 2*p_x**2*p_z**2 - p_y**4 - 2*p_y**2*p_z**2 - p_z**4))/(a_2**2 - 2*a_2*a_3 + a_3**2 + d_3**2 + d_4**2 - p_x**2 - p_y**2 - p_z**2))"
      ]
     },
     "metadata": {},
     "output_type": "display_data"
    }
   ],
   "source": [
    "eq2_l = simplify(t16[0, 3]**2 + t16[2, 3]**2)\n",
    "eq2_r = simplify(t16_l[0, 3]**2 + t16_l[2, 3]**2)\n",
    "eq2_r = simplify(eq2_r.evalf(subs={'theta_1': theta1_s1, 'theta_2': theta1_s2}))\n",
    "eq2 = Eq(eq2_l, eq2_r)\n",
    "display(eq2)\n",
    "theta3_s = solve(eq2, theta3)\n",
    "theta3_s1 = simplify(theta3_s[0])\n",
    "theta3_s2 = simplify(theta3_s[1])\n",
    "display(theta3_s1)\n",
    "display(theta3_s2)"
   ]
  }
 ],
 "metadata": {
  "kernelspec": {
   "display_name": "Python 3 (ipykernel)",
   "language": "python",
   "name": "python3"
  },
  "language_info": {
   "codemirror_mode": {
    "name": "ipython",
    "version": 3
   },
   "file_extension": ".py",
   "mimetype": "text/x-python",
   "name": "python",
   "nbconvert_exporter": "python",
   "pygments_lexer": "ipython3",
   "version": "3.12.6"
  }
 },
 "nbformat": 4,
 "nbformat_minor": 5
}
